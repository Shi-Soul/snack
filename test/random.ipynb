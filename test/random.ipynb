{
 "cells": [
  {
   "cell_type": "code",
   "execution_count": 23,
   "metadata": {},
   "outputs": [
    {
     "name": "stdout",
     "output_type": "stream",
     "text": [
      "tensor([[[False,  True, False, False, False],\n",
      "         [False,  True,  True,  True,  True]],\n",
      "\n",
      "        [[False,  True,  True, False,  True],\n",
      "         [False, False,  True, False,  True]]])\n",
      "tensor([[[0.0000, 0.2000, 0.0000, 0.0000, 0.0000],\n",
      "         [0.0000, 0.2000, 0.2000, 0.2000, 0.2000]],\n",
      "\n",
      "        [[0.0000, 0.2000, 0.2000, 0.0000, 0.2000],\n",
      "         [0.0000, 0.0000, 0.2000, 0.0000, 0.2000]]])\n",
      "tensor([[1, 4],\n",
      "        [1, 7],\n",
      "        [8, 7],\n",
      "        [9, 4],\n",
      "        [9, 4]])\n",
      "tensor([[0, 0],\n",
      "        [0, 1],\n",
      "        [1, 1],\n",
      "        [1, 0],\n",
      "        [1, 0]]) tensor([[1, 4],\n",
      "        [1, 2],\n",
      "        [3, 2],\n",
      "        [4, 4],\n",
      "        [4, 4]])\n"
     ]
    }
   ],
   "source": [
    "import torch\n",
    "A = torch.randint(10,(20,)) -5\n",
    "A = A.reshape(2,2,5)\n",
    "# print(A)\n",
    "P = A>0\n",
    "print(P)\n",
    "# print((torch.sum(P,dim=(-1,-2))))\n",
    "P = P/(torch.sum(P,dim=(-1,-2),keepdim=True))\n",
    "dist = torch.distributions.Categorical(probs=P.reshape(2,-1))\n",
    "print(P)\n",
    "Sa = dist.sample((5,))\n",
    "# 把sample变换回原来的形状\n",
    "# (9,1) = ( (1,4),(0,1) )\n",
    "\n",
    "Re = Sa // 5\n",
    "Co = Sa % 5\n",
    "print(Sa)\n",
    "print(Re,Co)"
   ]
  },
  {
   "cell_type": "code",
   "execution_count": 37,
   "metadata": {},
   "outputs": [
    {
     "name": "stdout",
     "output_type": "stream",
     "text": [
      "torch.Size([2, 1])\n",
      "tensor([[[[ True, False,  True,  True,  True],\n",
      "          [False,  True, False,  True, False]]],\n",
      "\n",
      "\n",
      "        [[[ True, False, False,  True, False],\n",
      "          [False,  True, False, False,  True]]]])\n",
      "tensor([[[[1., 0., 1., 1., 1.],\n",
      "          [0., 1., 0., 1., 0.]]],\n",
      "\n",
      "\n",
      "        [[[1., 0., 0., 1., 0.],\n",
      "          [0., 1., 0., 0., 1.]]]])\n",
      "tensor([[1],\n",
      "        [1]]) \n",
      " tensor([[1],\n",
      "        [1]])\n",
      "torch.Size([2, 1])\n",
      "tensor([[[[1., 0., 1., 1., 1.],\n",
      "          [0., 1., 0., 1., 0.]]],\n",
      "\n",
      "\n",
      "        [[[1., 0., 0., 1., 0.],\n",
      "          [0., 2., 0., 0., 1.]]]])\n"
     ]
    }
   ],
   "source": [
    "import torch\n",
    "mask = torch.tensor([[0],[1]],dtype = torch.float32)\n",
    "print(mask.shape)\n",
    "A = torch.randint(10,(20,)) -3\n",
    "A = A.reshape(2,1,2,5)\n",
    "# print(A)\n",
    "print(A>0)\n",
    "P = torch.as_tensor((A>0).to(torch.float32), dtype=torch.float32)\n",
    "print(P)\n",
    "\n",
    "sample = torch.multinomial(P.reshape(2,-1), 1)\n",
    "# print(sample)\n",
    "print(sample//5,\"\\n\", sample%5)\n",
    "print(sample.shape)\n",
    "P[torch.arange(2).reshape(-1,1),0, sample//5, sample%5] += mask\n",
    "print(P)"
   ]
  },
  {
   "cell_type": "code",
   "execution_count": 13,
   "metadata": {},
   "outputs": [
    {
     "data": {
      "text/plain": [
       "torch.float32"
      ]
     },
     "execution_count": 13,
     "metadata": {},
     "output_type": "execute_result"
    }
   ],
   "source": [
    "torch.zeros((5,)).dtype"
   ]
  },
  {
   "cell_type": "code",
   "execution_count": 41,
   "metadata": {},
   "outputs": [
    {
     "data": {
      "text/plain": [
       "tensor([[False, False],\n",
       "        [ True, False],\n",
       "        [False,  True],\n",
       "        [False, False],\n",
       "        [False,  True],\n",
       "        [False,  True],\n",
       "        [False, False],\n",
       "        [False, False],\n",
       "        [False, False],\n",
       "        [False, False]])"
      ]
     },
     "execution_count": 41,
     "metadata": {},
     "output_type": "execute_result"
    }
   ],
   "source": [
    "torch.randint(5,(20,)).reshape(10,2) == 0"
   ]
  },
  {
   "cell_type": "code",
   "execution_count": 76,
   "metadata": {},
   "outputs": [
    {
     "name": "stdout",
     "output_type": "stream",
     "text": [
      "torch.Size([9, 1, 4])\n",
      "torch.Size([9, 4, 5, 5]) torch.Size([9, 1, 4])\n",
      "torch.Size([9, 5, 5])\n",
      "torch.Size([9])\n"
     ]
    }
   ],
   "source": [
    "import torch.nn.functional as F\n",
    "size=  5\n",
    "N = 9\n",
    "EPS=1e-6\n",
    "s = torch.randint(5,(N,3,size,size),dtype=torch.float32)\n",
    "# torch.sum(s[:,0],dim=(-1,-2),keepdim=False)[:,None].shape\n",
    "# (torch.abs(torch.sum(s[:,0],dim=(-1,-2),keepdim=False)[:,None])<EPS).shape\n",
    "act = torch.randint(4,(N,1),dtype=torch.int64)\n",
    "# act = torch.tensor([1,2,3])\n",
    "# print(act,act.shape,act.dtype)\n",
    "print(F.one_hot(act,num_classes=4).shape)\n",
    "_move_kernel =torch.concat([\n",
    "            torch.tensor([[0,0,0],[1,0,0],[0,0,0]],dtype=torch.float32).flip(dims=(-2,-1)).reshape(1,1,3,3),\n",
    "            torch.tensor([[0,0,0],[0,0,1],[0,0,0]],dtype=torch.float32).flip(dims=(-2,-1)).reshape(1,1,3,3),\n",
    "            torch.tensor([[0,1,0],[0,0,0],[0,0,0]],dtype=torch.float32).flip(dims=(-2,-1)).reshape(1,1,3,3),\n",
    "            torch.tensor([[0,0,0],[0,0,0],[0,1,0]],dtype=torch.float32).flip(dims=(-2,-1)).reshape(1,1,3,3),\n",
    "        ])\n",
    "next_head = torch.conv2d(s[:,:1], \n",
    "                                    _move_kernel,\n",
    "                                    padding=1)\n",
    "one_hot_act = F.one_hot(act,num_classes=4).to(torch.float32)\n",
    "print(next_head.shape,one_hot_act.shape)\n",
    "next_head = torch.einsum('ijkl,iaj->ikl',next_head,one_hot_act)\n",
    "print(next_head.shape)\n",
    "\n",
    "\n",
    "hit_body = torch.sum(next_head*s[:,2],dim=(-1,-2),keepdim=False)>0\n",
    "print(hit_body.shape)\n",
    "# F.one_hot(torch.tensor([1,2,3]).reshape(-1,1),num_classes=4).shape\n",
    "# torch.tensor([1,2,3]).reshape(-1,1).shape\n",
    "# print(next_head.shape)"
   ]
  },
  {
   "cell_type": "code",
   "execution_count": 82,
   "metadata": {},
   "outputs": [
    {
     "data": {
      "text/plain": [
       "tensor(True)"
      ]
     },
     "execution_count": 82,
     "metadata": {},
     "output_type": "execute_result"
    }
   ],
   "source": [
    "torch.logical_or(torch.tensor(1.0),torch.tensor(0.))"
   ]
  }
 ],
 "metadata": {
  "kernelspec": {
   "display_name": "base",
   "language": "python",
   "name": "python3"
  },
  "language_info": {
   "codemirror_mode": {
    "name": "ipython",
    "version": 3
   },
   "file_extension": ".py",
   "mimetype": "text/x-python",
   "name": "python",
   "nbconvert_exporter": "python",
   "pygments_lexer": "ipython3",
   "version": "3.10.9"
  },
  "orig_nbformat": 4,
  "vscode": {
   "interpreter": {
    "hash": "5840bd28907b92c86c942fc1b3cf2865c456f7f2fb9fc3f0775969cbad9a1c21"
   }
  }
 },
 "nbformat": 4,
 "nbformat_minor": 2
}
